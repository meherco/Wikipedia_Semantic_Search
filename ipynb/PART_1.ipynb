{
 "cells": [
  {
   "cell_type": "code",
   "execution_count": null,
   "metadata": {
    "collapsed": true
   },
   "outputs": [],
   "source": [
    "# Install missing libraries from Docker environment\n",
    "!pip install psycopg2 --quiet\n",
    "!pip install wikipedia --quiet"
   ]
  },
  {
   "cell_type": "code",
   "execution_count": null,
   "metadata": {
    "collapsed": true
   },
   "outputs": [],
   "source": [
    "import os\n",
    "import sys\n",
    "\n",
    "# Add path where helper functions are located\n",
    "module_path = os.path.abspath(os.path.join('..'))\n",
    "if module_path not in sys.path:\n",
    "    sys.path.append(module_path)\n",
    "\n",
    "# Import custom helper functions\n",
    "from lib import helpers"
   ]
  },
  {
   "cell_type": "code",
   "execution_count": null,
   "metadata": {
    "collapsed": true
   },
   "outputs": [],
   "source": [
    "import psycopg2 as pg2\n",
    "from pandas import DataFrame\n",
    "from psycopg2.extras import RealDictCursor\n",
    "import pandas as pd\n",
    "import re\n",
    "import requests\n",
    "import wikipedia\n",
    "\n",
    "from bs4 import BeautifulSoup\n"
   ]
  },
  {
   "cell_type": "code",
   "execution_count": null,
   "metadata": {},
   "outputs": [],
   "source": [
    "# Writing to Machine Learning Category\n",
    "category = 'machine learning'\n",
    "helpers.put_data_to_dbpage(category)"
   ]
  },
  {
   "cell_type": "code",
   "execution_count": null,
   "metadata": {
    "collapsed": true
   },
   "outputs": [],
   "source": [
    "category = 'business software'\n",
    "helpers.put_data_to_dbpage(category)"
   ]
  },
  {
   "cell_type": "code",
   "execution_count": null,
   "metadata": {
    "collapsed": true
   },
   "outputs": [],
   "source": [
    "query = 'SELECT * FROM page_categories'\n",
    "df = helpers.query_to_dataframe(query)\n",
    "df.size\n",
    "df.head()"
   ]
  },
  {
   "cell_type": "code",
   "execution_count": null,
   "metadata": {
    "collapsed": true
   },
   "outputs": [],
   "source": [
    "# JOIN ALL TABLES INTO ONE DF\n",
    "\n",
    "query = '''\n",
    "          SELECT * FROM pages p\n",
    "          JOIN page_categories c ON \n",
    "          p.page_id = c.page_id\n",
    "          JOIN page_content pc ON\n",
    "          p.page_id = pc.page_id\n",
    "          '''\n",
    "df = helpers.query_to_dataframe(query)\n",
    "\n",
    "df.head()"
   ]
  },
  {
   "cell_type": "code",
   "execution_count": null,
   "metadata": {
    "collapsed": true
   },
   "outputs": [],
   "source": [
    "df.to_pickle('../wiki_data.pkl')"
   ]
  },
  {
   "cell_type": "code",
   "execution_count": null,
   "metadata": {
    "collapsed": true
   },
   "outputs": [],
   "source": [
    "# USE for purging tables ONLY\n",
    "\n",
    "# TEst to make sure data got into tables\n",
    "purge_table('pages')\n",
    "purge_table('page_content')\n",
    "purge_table('page_categories')"
   ]
  }
 ],
 "metadata": {
  "kernelspec": {
   "display_name": "Python 3",
   "language": "python",
   "name": "python3"
  },
  "language_info": {
   "codemirror_mode": {
    "name": "ipython",
    "version": 3
   },
   "file_extension": ".py",
   "mimetype": "text/x-python",
   "name": "python",
   "nbconvert_exporter": "python",
   "pygments_lexer": "ipython3",
   "version": "3.6.2"
  }
 },
 "nbformat": 4,
 "nbformat_minor": 2
}
