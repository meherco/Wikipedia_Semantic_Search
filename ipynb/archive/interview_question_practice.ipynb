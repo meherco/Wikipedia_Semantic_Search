{
 "cells": [
  {
   "cell_type": "code",
   "execution_count": 11,
   "metadata": {},
   "outputs": [
    {
     "name": "stdout",
     "output_type": "stream",
     "text": [
      "dict_values(['a'])\n",
      "dict_values(['a', 'c'])\n",
      "dict_values(['a', 'c', 'd'])\n",
      "dict_values(['a', 'c', 'd', 'i'])\n",
      "dict_values(['a', 'c', 'd', 'i', 'e'])\n",
      "dict_values(['a', 'c', 'd', 'i', 'e', 'a'])\n",
      "dict_values(['a', 'c', 'd', 'i', 'e', 'a', 'b'])\n",
      "dict_values(['a', 'c', 'd', 'i', 'e', 'a', 'b', 'd'])\n",
      "dict_values(['a', 'c', 'd', 'i', 'e', 'a', 'b', 'd', 't'])\n",
      "dict_values(['a', 'c', 'd', 'i', 'e', 'a', 'b', 'd', 't', 'e'])\n",
      "dict_values(['a', 'c', 'd', 'i', 'e', 'a', 'b', 'd', 't', 'e', 'c'])\n"
     ]
    }
   ],
   "source": [
    "long = 'acdieabdtec'\n",
    "short = 'cie'\n",
    "\n",
    "temp = {}\n",
    "for i,letter in enumerate(long):\n",
    "    temp[i]=letter\n",
    "    print(temp.values())\n",
    "    if short in temp.values():\n",
    "        print(short)"
   ]
  },
  {
   "cell_type": "code",
   "execution_count": 33,
   "metadata": {},
   "outputs": [
    {
     "data": {
      "text/plain": [
       "False"
      ]
     },
     "execution_count": 33,
     "metadata": {},
     "output_type": "execute_result"
    }
   ],
   "source": [
    "s_dict= {}\n",
    "for i in short:\n",
    "    s_dict[i] = None\n",
    "\n",
    "\n",
    "\n",
    "list(s_dict.values()) is None"
   ]
  },
  {
   "cell_type": "code",
   "execution_count": 58,
   "metadata": {},
   "outputs": [
    {
     "data": {
      "text/plain": [
       "False"
      ]
     },
     "execution_count": 58,
     "metadata": {},
     "output_type": "execute_result"
    }
   ],
   "source": [
    "None in s_dict.values()"
   ]
  },
  {
   "cell_type": "code",
   "execution_count": 186,
   "metadata": {},
   "outputs": [
    {
     "data": {
      "text/plain": [
       "3"
      ]
     },
     "execution_count": 186,
     "metadata": {},
     "output_type": "execute_result"
    }
   ],
   "source": [
    "\n",
    "long = 'acdieabdtec'\n",
    "len(short)\n"
   ]
  },
  {
   "cell_type": "code",
   "execution_count": 198,
   "metadata": {},
   "outputs": [],
   "source": [
    "long = 'acdieabdtec'\n",
    "short = 'cie'\n",
    "def recur_fun(starting_index):\n",
    "    best = len(long)\n",
    "    #initialize empty dict\n",
    "    for i in short:\n",
    "        s_dict[i] = None\n",
    "    for i,letter in enumerate(long[:-(-starting_index-len(short))]):\n",
    "        print(i,letter)\n",
    "        if letter in short:\n",
    "            print('done')\n",
    "            s_dict[letter] = i\n",
    "        if None not in s_dict.values():\n",
    "            print(s_dict)\n",
    "            return s_dict\n"
   ]
  },
  {
   "cell_type": "code",
   "execution_count": 199,
   "metadata": {},
   "outputs": [
    {
     "name": "stdout",
     "output_type": "stream",
     "text": [
      "0 a\n",
      "1 c\n",
      "done\n",
      "2 d\n",
      "None\n"
     ]
    },
    {
     "ename": "AttributeError",
     "evalue": "'NoneType' object has no attribute 'values'",
     "output_type": "error",
     "traceback": [
      "\u001b[0;31m---------------------------------------------------------------------------\u001b[0m",
      "\u001b[0;31mAttributeError\u001b[0m                            Traceback (most recent call last)",
      "\u001b[0;32m<ipython-input-199-8eada50d3033>\u001b[0m in \u001b[0;36m<module>\u001b[0;34m()\u001b[0m\n\u001b[1;32m      4\u001b[0m     \u001b[0ms_dict\u001b[0m \u001b[0;34m=\u001b[0m \u001b[0mrecur_fun\u001b[0m\u001b[0;34m(\u001b[0m\u001b[0mi\u001b[0m\u001b[0;34m)\u001b[0m\u001b[0;34m\u001b[0m\u001b[0m\n\u001b[1;32m      5\u001b[0m     \u001b[0mprint\u001b[0m\u001b[0;34m(\u001b[0m\u001b[0ms_dict\u001b[0m\u001b[0;34m)\u001b[0m\u001b[0;34m\u001b[0m\u001b[0m\n\u001b[0;32m----> 6\u001b[0;31m     \u001b[0mbest\u001b[0m \u001b[0;34m=\u001b[0m \u001b[0mmax\u001b[0m\u001b[0;34m(\u001b[0m\u001b[0ms_dict\u001b[0m\u001b[0;34m.\u001b[0m\u001b[0mvalues\u001b[0m\u001b[0;34m(\u001b[0m\u001b[0;34m)\u001b[0m\u001b[0;34m)\u001b[0m \u001b[0;34m-\u001b[0m \u001b[0mmin\u001b[0m\u001b[0;34m(\u001b[0m\u001b[0ms_dict\u001b[0m\u001b[0;34m.\u001b[0m\u001b[0mvalues\u001b[0m\u001b[0;34m(\u001b[0m\u001b[0;34m)\u001b[0m\u001b[0;34m)\u001b[0m\u001b[0;34m\u001b[0m\u001b[0m\n\u001b[0m\u001b[1;32m      7\u001b[0m     \u001b[0mprint\u001b[0m\u001b[0;34m(\u001b[0m\u001b[0mbest\u001b[0m\u001b[0;34m)\u001b[0m\u001b[0;34m\u001b[0m\u001b[0m\n\u001b[1;32m      8\u001b[0m     \u001b[0;32mif\u001b[0m \u001b[0mmin_dis\u001b[0m \u001b[0;34m>\u001b[0m \u001b[0mbest\u001b[0m\u001b[0;34m:\u001b[0m\u001b[0;34m\u001b[0m\u001b[0m\n",
      "\u001b[0;31mAttributeError\u001b[0m: 'NoneType' object has no attribute 'values'"
     ]
    }
   ],
   "source": [
    "s_dict= {}\n",
    "best_dict = {}\n",
    "for i,letter in enumerate(long[-(len(short)):]):\n",
    "    s_dict = recur_fun(i)\n",
    "    print(s_dict)\n",
    "    best = max(s_dict.values()) - min(s_dict.values())\n",
    "    print(best)\n",
    "    if min_dis > best:\n",
    "        min_dis = best\n",
    "        best_dict = dict(s_dict)"
   ]
  },
  {
   "cell_type": "code",
   "execution_count": 140,
   "metadata": {},
   "outputs": [
    {
     "data": {
      "text/plain": [
       "3"
      ]
     },
     "execution_count": 140,
     "metadata": {},
     "output_type": "execute_result"
    }
   ],
   "source": [
    "min_dis"
   ]
  },
  {
   "cell_type": "code",
   "execution_count": 141,
   "metadata": {},
   "outputs": [
    {
     "data": {
      "text/plain": [
       "{}"
      ]
     },
     "execution_count": 141,
     "metadata": {},
     "output_type": "execute_result"
    }
   ],
   "source": [
    "best_dict"
   ]
  },
  {
   "cell_type": "code",
   "execution_count": null,
   "metadata": {
    "collapsed": true
   },
   "outputs": [],
   "source": []
  }
 ],
 "metadata": {
  "kernelspec": {
   "display_name": "Python 3",
   "language": "python",
   "name": "python3"
  },
  "language_info": {
   "codemirror_mode": {
    "name": "ipython",
    "version": 3
   },
   "file_extension": ".py",
   "mimetype": "text/x-python",
   "name": "python",
   "nbconvert_exporter": "python",
   "pygments_lexer": "ipython3",
   "version": "3.6.2"
  }
 },
 "nbformat": 4,
 "nbformat_minor": 2
}
