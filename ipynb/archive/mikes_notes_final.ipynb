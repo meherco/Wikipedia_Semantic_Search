{
 "cells": [
  {
   "cell_type": "code",
   "execution_count": 1,
   "metadata": {},
   "outputs": [
    {
     "name": "stdout",
     "output_type": "stream",
     "text": [
      "Collecting psycopg2\n",
      "  Using cached psycopg2-2.7.3.1-cp36-cp36m-manylinux1_x86_64.whl\n",
      "Installing collected packages: psycopg2\n",
      "Successfully installed psycopg2-2.7.3.1\n"
     ]
    }
   ],
   "source": [
    "!pip install psycopg2"
   ]
  },
  {
   "cell_type": "code",
   "execution_count": 2,
   "metadata": {
    "collapsed": true
   },
   "outputs": [],
   "source": [
    "import psycopg2\n",
    "from psycopg2.extras import RealDictCursor"
   ]
  },
  {
   "cell_type": "code",
   "execution_count": 35,
   "metadata": {
    "collapsed": true
   },
   "outputs": [],
   "source": [
    "def execute_query(query, update = False):\n",
    "    HOST = 'postgres'\n",
    "    DBNAME = 'postgres'\n",
    "    USER = 'postgres'\n",
    "    \n",
    "    con = psycopg2.connect(host=HOST, dbname = DBNAME, user = USER)\n",
    "    curs = con.cursor(cursor_factory=RealDictCursor)\n",
    "    curs.execute(query)\n",
    "    if not update:\n",
    "        results = curs.fetchall()\n",
    "        con.close()\n",
    "        return results\n",
    "    con.close()\n",
    "    return None"
   ]
  },
  {
   "cell_type": "code",
   "execution_count": 36,
   "metadata": {
    "collapsed": true
   },
   "outputs": [],
   "source": [
    "query = 'SELECT * FROM pages'"
   ]
  },
  {
   "cell_type": "code",
   "execution_count": 37,
   "metadata": {},
   "outputs": [
    {
     "data": {
      "text/plain": [
       "[]"
      ]
     },
     "execution_count": 37,
     "metadata": {},
     "output_type": "execute_result"
    }
   ],
   "source": [
    "execute_query(query)"
   ]
  },
  {
   "cell_type": "code",
   "execution_count": 38,
   "metadata": {
    "collapsed": true
   },
   "outputs": [],
   "source": [
    "fake_page = (1, 'machine learning', 'this is a fake page about machine learning')"
   ]
  },
  {
   "cell_type": "code",
   "execution_count": 39,
   "metadata": {},
   "outputs": [
    {
     "data": {
      "text/plain": [
       "'1, machine learning, this is a fake page about machine learning'"
      ]
     },
     "execution_count": 39,
     "metadata": {},
     "output_type": "execute_result"
    }
   ],
   "source": [
    "', '.join([str(i) for i in fake_page])"
   ]
  },
  {
   "cell_type": "code",
   "execution_count": 40,
   "metadata": {
    "collapsed": true
   },
   "outputs": [],
   "source": [
    "def format_data_for_query(data_list):\n",
    "    new_data_list = []\n",
    "    for i in data_list:\n",
    "        if type(i) == str:\n",
    "            new_data_list.append(\"'{}'\".format(i))\n",
    "        else:\n",
    "            new_data_list.append(str(i))\n",
    "    return ', '.join(new_data_list)"
   ]
  },
  {
   "cell_type": "code",
   "execution_count": 41,
   "metadata": {},
   "outputs": [
    {
     "data": {
      "text/plain": [
       "\"1, 'machine learning', 'this is a fake page about machine learning'\""
      ]
     },
     "execution_count": 41,
     "metadata": {},
     "output_type": "execute_result"
    }
   ],
   "source": [
    "format_data_for_query(fake_page)"
   ]
  },
  {
   "cell_type": "code",
   "execution_count": 42,
   "metadata": {
    "collapsed": true
   },
   "outputs": [],
   "source": [
    "def update_table(table_name, col_values):\n",
    "    query = '''\n",
    "            BEGIN;\n",
    "            INSERT INTO {} VALUES ({});\n",
    "            COMMIT;\n",
    "            '''.format(table_name, format_data_for_query(col_values))\n",
    "    execute_query(query, update=True)"
   ]
  },
  {
   "cell_type": "code",
   "execution_count": 43,
   "metadata": {
    "collapsed": true
   },
   "outputs": [],
   "source": [
    "def insert_1(page_id, title, text, category):\n",
    "    update_table('pages', [page_id, title])\n",
    "    update_table('page_content', [page_id, text])\n",
    "    update_table('page_categories', [page_id, category])"
   ]
  },
  {
   "cell_type": "code",
   "execution_count": 52,
   "metadata": {
    "collapsed": true
   },
   "outputs": [],
   "source": [
    "insert_1(3, 'machine learning','this is a fake page about machine learning', 'macine learning')"
   ]
  },
  {
   "cell_type": "code",
   "execution_count": 45,
   "metadata": {},
   "outputs": [
    {
     "data": {
      "text/plain": [
       "[{'category': 'macine learning', 'page_id': 3}]"
      ]
     },
     "execution_count": 45,
     "metadata": {},
     "output_type": "execute_result"
    }
   ],
   "source": [
    "execute_query('SELECT * FROM page_categories')"
   ]
  },
  {
   "cell_type": "code",
   "execution_count": 46,
   "metadata": {
    "collapsed": true
   },
   "outputs": [],
   "source": [
    "def purge_table(table_name):\n",
    "    query = '''\n",
    "            BEGIN;\n",
    "            DELETE FROM {};\n",
    "            COMMIT;\n",
    "            '''.format(table_name)\n",
    "    execute_query(query, update=True)"
   ]
  },
  {
   "cell_type": "code",
   "execution_count": 48,
   "metadata": {
    "collapsed": true
   },
   "outputs": [],
   "source": [
    "purge_table('pages')\n",
    "purge_table('page_content')\n",
    "purge_table('page_categories')"
   ]
  },
  {
   "cell_type": "code",
   "execution_count": 53,
   "metadata": {},
   "outputs": [
    {
     "data": {
      "text/plain": [
       "[{'page_id': 3, 'title': 'machine learning'}]"
      ]
     },
     "execution_count": 53,
     "metadata": {},
     "output_type": "execute_result"
    }
   ],
   "source": [
    "execute_query('SELECT * FROM pages')"
   ]
  },
  {
   "cell_type": "code",
   "execution_count": 54,
   "metadata": {},
   "outputs": [
    {
     "data": {
      "text/plain": [
       "[{'content': 'this is a fake page about machine learning', 'page_id': 3}]"
      ]
     },
     "execution_count": 54,
     "metadata": {},
     "output_type": "execute_result"
    }
   ],
   "source": [
    "execute_query('SELECT * FROM page_content')"
   ]
  },
  {
   "cell_type": "code",
   "execution_count": 55,
   "metadata": {},
   "outputs": [
    {
     "data": {
      "text/plain": [
       "[{'category': 'macine learning', 'page_id': 3}]"
      ]
     },
     "execution_count": 55,
     "metadata": {},
     "output_type": "execute_result"
    }
   ],
   "source": [
    "execute_query('SELECT * FROM page_categories')"
   ]
  },
  {
   "cell_type": "code",
   "execution_count": 66,
   "metadata": {
    "collapsed": true
   },
   "outputs": [],
   "source": [
    "query = '''\n",
    "          SELECT * FROM pages p\n",
    "          JOIN page_categories c ON \n",
    "          p.page_id = c.page_id\n",
    "          JOIN page_content pc ON\n",
    "          p.page_id = pc.page_id\n",
    "          '''"
   ]
  },
  {
   "cell_type": "code",
   "execution_count": 67,
   "metadata": {},
   "outputs": [
    {
     "data": {
      "text/plain": [
       "[{'category': 'macine learning',\n",
       "  'content': 'this is a fake page about machine learning',\n",
       "  'page_id': 3,\n",
       "  'title': 'machine learning'}]"
      ]
     },
     "execution_count": 67,
     "metadata": {},
     "output_type": "execute_result"
    }
   ],
   "source": [
    "execute_query(query)"
   ]
  },
  {
   "cell_type": "code",
   "execution_count": null,
   "metadata": {
    "collapsed": true
   },
   "outputs": [],
   "source": []
  }
 ],
 "metadata": {
  "kernelspec": {
   "display_name": "Python 3",
   "language": "python",
   "name": "python3"
  },
  "language_info": {
   "codemirror_mode": {
    "name": "ipython",
    "version": 3
   },
   "file_extension": ".py",
   "mimetype": "text/x-python",
   "name": "python",
   "nbconvert_exporter": "python",
   "pygments_lexer": "ipython3",
   "version": "3.6.2"
  }
 },
 "nbformat": 4,
 "nbformat_minor": 2
}
