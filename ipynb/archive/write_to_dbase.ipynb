{
 "cells": [
  {
   "cell_type": "code",
   "execution_count": 9,
   "metadata": {
    "collapsed": true
   },
   "outputs": [],
   "source": [
    "!pip install psycopg2 --quiet"
   ]
  },
  {
   "cell_type": "code",
   "execution_count": 10,
   "metadata": {
    "collapsed": true
   },
   "outputs": [],
   "source": [
    "import psycopg2 as pg2\n",
    "from psycopg2.extras import RealDictCursor"
   ]
  },
  {
   "cell_type": "code",
   "execution_count": 15,
   "metadata": {
    "collapsed": true
   },
   "outputs": [],
   "source": [
    "def connect_to_db():\n",
    "    con = pg2.connect(host='postgres', \n",
    "                      dbname='postgres', \n",
    "                      user='postgres')\n",
    "    cur = con.cursor(cursor_factory=RealDictCursor)\n",
    "    return con, cur\n",
    "\n",
    "def query_to_dictionary(query, fetch_res=True):\n",
    "    con, cur = connect_to_db()\n",
    "    cur.execute(query)\n",
    "    if fetch_res:\n",
    "        results = cur.fetchall()\n",
    "    else:\n",
    "        results = None\n",
    "    con.close()\n",
    "    return results\n",
    "\n",
    "def query_to_dataframe(query):\n",
    "    return DataFrame(query_to_dictionary(query))\n",
    "\n",
    "def execute_query(query, update = False):\n",
    "    HOST = 'postgres'\n",
    "    DBNAME = 'postgres'\n",
    "    USER = 'postgres'\n",
    "    \n",
    "    con = pg2.connect(host=HOST, dbname = DBNAME, user = USER)\n",
    "    curs = con.cursor(cursor_factory=RealDictCursor)\n",
    "    curs.execute(query)\n",
    "    if not update:\n",
    "        results = curs.fetchall()\n",
    "        con.close()\n",
    "        return results\n",
    "    con.close()\n",
    "    return None"
   ]
  },
  {
   "cell_type": "code",
   "execution_count": 16,
   "metadata": {
    "collapsed": true
   },
   "outputs": [],
   "source": [
    "def purge_table(table_name):\n",
    "    query = '''\n",
    "            BEGIN;\n",
    "            DELETE FROM {};\n",
    "            COMMIT;\n",
    "            '''.format(table_name)\n",
    "    execute_query(query, update=True)"
   ]
  },
  {
   "cell_type": "code",
   "execution_count": 17,
   "metadata": {},
   "outputs": [],
   "source": [
    "con, cur = connect_to_db()"
   ]
  },
  {
   "cell_type": "code",
   "execution_count": 18,
   "metadata": {},
   "outputs": [
    {
     "data": {
      "text/plain": [
       "[{'page_id': 1, 'title': 'machine learning'}]"
      ]
     },
     "execution_count": 18,
     "metadata": {},
     "output_type": "execute_result"
    }
   ],
   "source": [
    "query = 'SELECT * FROM pages'\n",
    "execute_query(query)"
   ]
  },
  {
   "cell_type": "code",
   "execution_count": 7,
   "metadata": {
    "collapsed": true
   },
   "outputs": [],
   "source": [
    "def format_data_for_query(data_list):\n",
    "    new_data_list = []\n",
    "    for i in data_list:\n",
    "        if type(i) == str:\n",
    "            new_data_list.append(\"'{}'\".format(i))\n",
    "        else:\n",
    "            new_data_list.append(str(i))\n",
    "    return ', '.join(new_data_list)"
   ]
  },
  {
   "cell_type": "code",
   "execution_count": null,
   "metadata": {
    "collapsed": true
   },
   "outputs": [],
   "source": [
    "def update_table(table_name, col_values):\n",
    "    query = '''\n",
    "        BEGIN;\n",
    "        INSERT INTO {} VALUES ({});\n",
    "        COMMIT;\n",
    "        '''.format(table_name, format_data_for_query(col_values))\n",
    "    query_to_dictionary(query,fetch_res=False)\n",
    "    "
   ]
  },
  {
   "cell_type": "code",
   "execution_count": null,
   "metadata": {
    "collapsed": true
   },
   "outputs": [],
   "source": [
    "def insert_1(page_id, title, text, category):\n",
    "    update_table('pages',[page_id, title])\n",
    "    update_table('page_content', [page_id, text])\n",
    "    update_table('page_categories', [page_id, category])"
   ]
  },
  {
   "cell_type": "code",
   "execution_count": null,
   "metadata": {},
   "outputs": [],
   "source": [
    "insert_1(1,'machine learning','this is a fake machine learning', 'machine learning')"
   ]
  },
  {
   "cell_type": "code",
   "execution_count": 19,
   "metadata": {
    "collapsed": true
   },
   "outputs": [],
   "source": [
    "query = 'SELECT * FROM pages'"
   ]
  },
  {
   "cell_type": "code",
   "execution_count": 20,
   "metadata": {},
   "outputs": [
    {
     "data": {
      "text/plain": [
       "[{'page_id': 1, 'title': 'machine learning'}]"
      ]
     },
     "execution_count": 20,
     "metadata": {},
     "output_type": "execute_result"
    }
   ],
   "source": [
    "query_to_dictionary(query)"
   ]
  },
  {
   "cell_type": "code",
   "execution_count": 21,
   "metadata": {},
   "outputs": [
    {
     "data": {
      "text/plain": [
       "[{'category': 'machine learning',\n",
       "  'content': 'this is a fake machine learning',\n",
       "  'page_id': 1,\n",
       "  'title': 'machine learning'}]"
      ]
     },
     "execution_count": 21,
     "metadata": {},
     "output_type": "execute_result"
    }
   ],
   "source": [
    "query = '''\n",
    "          SELECT * FROM pages p\n",
    "          JOIN page_categories c ON \n",
    "          p.page_id = c.page_id\n",
    "          JOIN page_content pc ON\n",
    "          p.page_id = pc.page_id\n",
    "          '''\n",
    "execute_query(query)"
   ]
  },
  {
   "cell_type": "code",
   "execution_count": null,
   "metadata": {
    "collapsed": true
   },
   "outputs": [],
   "source": []
  },
  {
   "cell_type": "code",
   "execution_count": null,
   "metadata": {
    "collapsed": true
   },
   "outputs": [],
   "source": []
  }
 ],
 "metadata": {
  "kernelspec": {
   "display_name": "Python 3",
   "language": "python",
   "name": "python3"
  },
  "language_info": {
   "codemirror_mode": {
    "name": "ipython",
    "version": 3
   },
   "file_extension": ".py",
   "mimetype": "text/x-python",
   "name": "python",
   "nbconvert_exporter": "python",
   "pygments_lexer": "ipython3",
   "version": "3.6.2"
  }
 },
 "nbformat": 4,
 "nbformat_minor": 2
}
