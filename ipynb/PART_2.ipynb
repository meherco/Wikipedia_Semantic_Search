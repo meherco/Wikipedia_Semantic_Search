{
 "cells": [
  {
   "cell_type": "code",
   "execution_count": 1,
   "metadata": {
    "collapsed": true
   },
   "outputs": [],
   "source": [
    "import pandas as pd\n",
    "import numpy as np\n",
    "import matplotlib.pyplot as plt\n",
    "\n",
    "%matplotlib inline"
   ]
  },
  {
   "cell_type": "code",
   "execution_count": 2,
   "metadata": {
    "collapsed": true
   },
   "outputs": [],
   "source": [
    "df = pd.read_pickle('../wiki_data.pkl')\n",
    "\n",
    "df.sample()"
   ]
  },
  {
   "cell_type": "code",
   "execution_count": 4,
   "metadata": {
    "collapsed": true
   },
   "outputs": [],
   "source": [
    "X = df['content']"
   ]
  },
  {
   "cell_type": "code",
   "execution_count": 5,
   "metadata": {
    "collapsed": true
   },
   "outputs": [],
   "source": [
    "from sklearn.feature_extraction.text import TfidfVectorizer"
   ]
  },
  {
   "cell_type": "code",
   "execution_count": 6,
   "metadata": {
    "collapsed": true
   },
   "outputs": [],
   "source": [
    "tfidf_vectorizer = TfidfVectorizer(min_df = 2, stop_words = 'english', ngram_range=(1,2))\n",
    "document_term_matrix_sps = tfidf_vectorizer.fit_transform(X)\n",
    "document_term_matrix_df = pd.DataFrame(document_term_matrix_sps.toarray(),\n",
    "                                       index=X.index,\n",
    "                                       columns=tfidf_vectorizer.get_feature_names())\n",
    "\n",
    "document_term_matrix_df.shape"
   ]
  },
  {
   "cell_type": "code",
   "execution_count": 8,
   "metadata": {
    "collapsed": true
   },
   "outputs": [],
   "source": [
    "from sklearn.decomposition import TruncatedSVD"
   ]
  },
  {
   "cell_type": "code",
   "execution_count": 9,
   "metadata": {},
   "outputs": [
    {
     "data": {
      "text/plain": [
       "<matplotlib.legend.Legend at 0x7f298522f550>"
      ]
     },
     "execution_count": 9,
     "metadata": {},
     "output_type": "execute_result"
    },
    {
     "data": {
      "image/png": "[encoded data removed]",
      "text/plain": [
       "<matplotlib.figure.Figure at 0x7f298522e898>"
      ]
     },
     "metadata": {},
     "output_type": "display_data"
    }
   ],
   "source": [
    "n_components = 300\n",
    "SVD = TruncatedSVD(n_components)\n",
    "component_names = [\"component_\"+str(i+1) for i in range(n_components)]\n",
    "svd_matrix = SVD.fit_transform(document_term_matrix_df)\n",
    "sum(SVD.explained_variance_ratio_)\n",
    "\n",
    "plt.plot(range(n_components), np.cumsum(SVD.explained_variance_ratio_), label='cumulative explained variance')\n",
    "plt.legend()"
   ]
  },
  {
   "cell_type": "code",
   "execution_count": 10,
   "metadata": {},
   "outputs": [
    {
     "data": {
      "text/plain": [
       "(497, 300)"
      ]
     },
     "execution_count": 10,
     "metadata": {},
     "output_type": "execute_result"
    }
   ],
   "source": [
    "svd_matrix.shape"
   ]
  },
  {
   "cell_type": "code",
   "execution_count": 13,
   "metadata": {
    "collapsed": true
   },
   "outputs": [],
   "source": [
    "!pip install psycopg2 --quiet\n",
    "!pip install wikipedia --quiet"
   ]
  },
  {
   "cell_type": "code",
   "execution_count": 1,
   "metadata": {
    "collapsed": true
   },
   "outputs": [],
   "source": [
    "import os\n",
    "import sys\n",
    "\n",
    "# Add path where helper functions are located\n",
    "module_path = os.path.abspath(os.path.join('..'))\n",
    "if module_path not in sys.path:\n",
    "    sys.path.append(module_path)\n",
    "\n",
    "# Import custom helper functions\n",
    "from lib import helpers\n",
    "\n",
    "import psycopg2 as pg2\n",
    "from pandas import DataFrame\n",
    "from psycopg2.extras import RealDictCursor\n",
    "import pandas as pd\n",
    "import re\n",
    "import requests\n",
    "import wikipedia\n",
    "\n",
    "from bs4 import BeautifulSoup\n"
   ]
  },
  {
   "cell_type": "code",
   "execution_count": 18,
   "metadata": {},
   "outputs": [
    {
     "data": {
      "text/plain": [
       "' hiya redirects here for other uses see hiya disambiguation hello redirects here for the british magazine see hello magazine for other uses see hello disambiguation hello is a salutation or greeting in the english language it is first attested in writing from NUMBER NUMBER contents NUMBER early uses NUMBER etymology NUMBER NUMBER telephone NUMBER NUMBER hullo NUMBER NUMBER hallo and hollo NUMBER hello world computer program NUMBER apple dos hello program NUMBER see also NUMBER references NUMBER external links early uses edit hello with that spelling was used in publications in the us as early as the NUMBER october NUMBER edition of the norwich courier of norwich connecticut NUMBER another early use was an NUMBER american book called the sketches and eccentricities of col david crockett of west tennessee NUMBER which was reprinted that same year in the london literary gazette NUMBER the word was extensively used in literature by the NUMBER s NUMBER etymology edit according to the oxford english dictionary hello is an alteration of hallo hollo NUMBER which came from old high german hal hol emphatic imperative of hal n hol n to fetch used especially in hailing a ferryman NUMBER it also connects the development of hello to the influence of an earlier form holla whose origin is in the french hol roughly whoa there from french l there NUMBER as in addition to hello halloo NUMBER hallo hollo hullo and rarely hillo also exist as variants or related words the word can be spelt using any of all five vowels NUMBER NUMBER NUMBER telephone edit the use of hello as a telephone greeting has been credited to thomas edison according to one source he expressed his surprise with a misheard hullo NUMBER alexander graham bell initially used ahoy as used on ships as a telephone greeting NUMBER NUMBER however in NUMBER edison wrote to t b a david the president of the central district and printing telegraph company of pittsburgh friend david i do not think we shall need a call bell as hello can be heard NUMBER to NUMBER feet away what you think edison p s first cost of sender receiver to manufacture is only NUMBER NUMBER NUMBER by NUMBER central telephone exchange operators were known as hello girls because of the association between the greeting and the telephone NUMBER hullo edit hello may be derived from hullo which the american merriam webster dictionary describes as a chiefly british variant of hello NUMBER and which was originally used as an exclamation to call attention an expression of surprise or a greeting hullo is found in publications as early as NUMBER NUMBER the word hullo is still in use with the meaning hello NUMBER NUMBER NUMBER NUMBER NUMBER hallo and hollo edit hallo redirects here for other uses see hallo disambiguation hello is alternatively thought to come from the word hallo NUMBER via hollo also holla holloa halloo halloa NUMBER the definition of hollo is to shout or an exclamation originally shouted in a hunt when the quarry was spotted NUMBER if i fly marcius halloo me like a hare coriolanus i viii NUMBER william shakespeare fowlers has it that hallo is first recorded as a shout to call attention in NUMBER NUMBER it is used by samuel taylor coleridges famous poem the rime of the ancient mariner written in NUMBER and the good south wind still blew behind but no sweet bird did follow nor any day for food or play came to the mariners hollo in many germanic languages including german danish norwegian dutch and afrikaans hallo literally translates into english as hello in the case of dutch it was used as early as NUMBER in a letter from willem bilderdijk to his sister in law as a remark of astonishment NUMBER websters dictionary from NUMBER traces the etymology of holloa to the old english halow and suggests perhaps from ah lo compare anglo saxon eal according to the american heritage dictionary hallo is a modification of the obsolete holla stop perhaps from old french hola ho ho la there from latin illac that way NUMBER the old english verb h lan NUMBER wv t NUMBER b NUMBER to heal cure save greet salute geh l hosanna may be the ultimate origin of the word NUMBER h lan is likely a cognate of german heil meaning complete for things and healthy for beings and other similar words of germanic origin bill bryson asserts in his book mother tongue that hello comes from old english h l b o u hale be thou or whole be thou meaning a wish for good health see also goodbye which is a contraction of god be with you hello world computer program edit main article hello world program students learning a new computer programming language will often begin by writing a hello world program which does nothing but issue the message hello world to the user such as by displaying it on a screen this popular tradition arose from an introductory chapter of the book the c programming language by kernighan ritchie which reused the following example taken from earlier memos by brian kernighan at bell labs int main printf hello world apple dos hello program edit a diskette formatted to boot apple dos NUMBER x on the apple ii series of computers will look for a basic program to run automatically after the operating system has booted by default the name of the program is hello and is specified as a parameter of the init command used to format a floppy disk for the hello program to work it has to be created in the same language integer basic or applesoft basic that is present in the language rom of the system the disk is being booted on see also edit aloha as salamu alaykum ciao kia ora namaste shalom world hello day references edit a b c hello oxford english dictionary NUMBER rd ed oxford university press september NUMBER subscription or uk public library membership required anonymous the sketches and eccentricities of col david crockett of west tennessee new york j j harper NUMBER p NUMBER the sketches and eccentricities of col david crockett of west tennessee the london literary gazette and journal of belles lettres arts sciences c no NUMBER december NUMBER NUMBER p NUMBER NUMBER origin of the word hallo oxford english dictionary NUMBER rd ed oxford university press september NUMBER subscription or uk public library membership required holla oxford english dictionary NUMBER rd ed oxford university press september NUMBER subscription or uk public library membership required butler mann a history of the commonwealth of kentucky wilcox dickerman co NUMBER p NUMBER merriam webster hollo merriam webster hullo merriam webster hillo allen koenigsberg the first hello thomas edison the phonograph and the telephone part NUMBER antique phonograph magazine vol viii no NUMBER archived from the original on NUMBER NUMBER NUMBER retrieved NUMBER NUMBER NUMBER allen koenigsberg NUMBER all things considered national public radio retrieved NUMBER NUMBER NUMBER a b online etymology dictionary etymonline com retrieved NUMBER september NUMBER allen koenigsberg the first hello thomas edison the phonograph and the telephone part NUMBER retrieved NUMBER august NUMBER hullo definition from the merriam webster online dictionary merriam webster com NUMBER NUMBER NUMBER retrieved NUMBER NUMBER NUMBER the sporting magazine london NUMBER volume NUMBER p NUMBER phpbb phpbb search engine indexer hullo from orkney forum downsizer net retrieved NUMBER NUMBER NUMBER piers beckley NUMBER NUMBER NUMBER writersroom blog hullo again did you miss me bbc retrieved NUMBER NUMBER NUMBER barton laura NUMBER NUMBER NUMBER paris for a day technology london the guardian retrieved NUMBER NUMBER NUMBER ashes england v australia day one as it happened andy bull and rob smyth sport guardian co uk london guardian NUMBER NUMBER NUMBER retrieved NUMBER NUMBER NUMBER bbc sport football europe semi final clash excites fans bbc news NUMBER NUMBER NUMBER retrieved NUMBER NUMBER NUMBER hello merriam webster online retrieved NUMBER NUMBER NUMBER hollo merriam webster online retrieved NUMBER NUMBER NUMBER the new fowlers revised third edition by r w burchfield oxford university press isbn NUMBER NUMBER NUMBER NUMBER p NUMBER bilderdijk willem liefde en ballingschap brieven NUMBER NUMBER ed marita mathijsen uitgeverij de arbeiderspers amsterdam antwerp NUMBER hello the american heritage dictionary of the english language fourth edition NUMBER retrieved NUMBER NUMBER NUMBER oeme dictionaries external links edit look up hello hi hey or hiya in wiktionary the free dictionary hello in more than NUMBER languages oed online entry for hollo subscription merriam webster dictionary hollo hullo '"
      ]
     },
     "execution_count": 18,
     "metadata": {},
     "output_type": "execute_result"
    }
   ],
   "source": [
    "# Grab a test article to quantify similarity\n",
    "helpers.get_clean_text('hello')"
   ]
  },
  {
   "cell_type": "markdown",
   "metadata": {
    "collapsed": true
   },
   "source": [
    "Get the top five related articles to \"Hello\" article"
   ]
  },
  {
   "cell_type": "code",
   "execution_count": 20,
   "metadata": {
    "collapsed": true
   },
   "outputs": [],
   "source": [
    "# Take the cosine similarity between the test_vector and the svd_matrix\n",
    "\n",
    "test_vector = get_clean_text('Adversarial machine learning')\n",
    "\n",
    "test_vector = pd.Series(test_vector)\n",
    "test_document_term_matrix_sps = tfidf_vectorizer.transform(test_vector)\n",
    "test_document_term_matrix_df = pd.DataFrame(test_document_term_matrix_sps.toarray(),\n",
    "                                       index=test_vector.index,\n",
    "                                       columns=tfidf_vectorizer.get_feature_names())\n",
    "test_svd_matrix = SVD.transform(test_document_term_matrix_df)"
   ]
  },
  {
   "cell_type": "code",
   "execution_count": 234,
   "metadata": {
    "collapsed": true
   },
   "outputs": [],
   "source": [
    "def cosine_sim(one, two):\n",
    "    mag_1 = np.zeros(one.shape[0])\n",
    "    cos = []\n",
    "    mag_2 = np.sqrt(np.dot(two,two.T))\n",
    "    for i in range(one.shape[0]):\n",
    "        mag_1 = np.sqrt(np.dot(one[i,:], one[i,:])) # scalar\n",
    "        cos.append(np.dot(one[i,:],two.reshape(-1,1)) / (mag_1 * mag_2))\n",
    "    return cos"
   ]
  },
  {
   "cell_type": "code",
   "execution_count": 240,
   "metadata": {},
   "outputs": [
    {
     "name": "stdout",
     "output_type": "stream",
     "text": [
      "Top Five Related Articles:\n",
      "1: adversarial machine learning\n",
      "2: machine learning\n",
      "3: timeline of machine learning\n",
      "4: list of datasets for machine learning research\n",
      "5: bluespice mediawiki\n"
     ]
    }
   ],
   "source": [
    "cos = cosine_sim(svd_matrix, test_svd_matrix)\n",
    "cos=np.array([float(i[0]) for i in cos])\n",
    "x = cos\n",
    "y = cos\n",
    "\n",
    "index = np.argsort(x)\n",
    "sorted_x = x[index]\n",
    "sorted_index = np.searchsorted(sorted_x, y)\n",
    "\n",
    "index = sorted_index == 496\n",
    "top_5 = []\n",
    "for i in range(0,5):\n",
    "    index = sorted_index == (496-i)\n",
    "    top_5.append(np.where(index)[0][0])\n",
    "print('Top Five Related Articles:')\n",
    "for i,article in enumerate(df['title'][top_5].values):\n",
    "    print(str(i+1)+': {}'.format(article))"
   ]
  }
 ],
 "metadata": {
  "kernelspec": {
   "display_name": "Python 3",
   "language": "python",
   "name": "python3"
  },
  "language_info": {
   "codemirror_mode": {
    "name": "ipython",
    "version": 3
   },
   "file_extension": ".py",
   "mimetype": "text/x-python",
   "name": "python",
   "nbconvert_exporter": "python",
   "pygments_lexer": "ipython3",
   "version": "3.6.2"
  }
 },
 "nbformat": 4,
 "nbformat_minor": 2
}
